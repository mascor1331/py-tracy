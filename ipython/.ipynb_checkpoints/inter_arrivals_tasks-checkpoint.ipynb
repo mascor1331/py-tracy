{
 "cells": [
  {
   "cell_type": "markdown",
   "metadata": {},
   "source": [
    "Task Events Inter-arrivals\n",
    "==\n",
    "(Run all the sections until the **Usage** section)\n",
    "--"
   ]
  },
  {
   "cell_type": "code",
   "execution_count": 12,
   "metadata": {
    "collapsed": false
   },
   "outputs": [
    {
     "name": "stdout",
     "output_type": "stream",
     "text": [
      "[(0, 3418309, 0, u'4155527081', u'0', u'70s3v5qRyCO/1PCdI6fVXnrW8FU/w+5CKRSa72xgcIo=', u'3', u'9', u'', u'', u'')]\n"
     ]
    }
   ],
   "source": [
    "import numpy\n",
    "import math\n",
    "from utils import math_utils as mu\n",
    "from bokeh.plotting import figure, show, output_file\n",
    "from bokeh.io import output_notebook\n",
    "from utils import plot_utils as pu\n",
    "from utils import output_utils as ou\n",
    "\n",
    "output_notebook()\n",
    "\n",
    "# Load and parse the job traces from the dataset\n",
    "# Traces content\n",
    "# 0: timestamp\n",
    "# 1: missing info\n",
    "# 2: job ID\n",
    "# 3: task index\n",
    "# 4: machine ID\n",
    "# 5: event type\n",
    "# 6: username\n",
    "# 7: scheduling class\n",
    "# 8: priority\n",
    "# 9: resource req CPU cores\n",
    "# 10: resource req RAM\n",
    "# 11: resource req local disk space\n",
    "# 12: different machine costraint\n",
    "\n",
    "# Load all the traces inside the directory \n",
    "t_google_traces = sc.textFile(\"../task_events/*.gz\")\n",
    "\n",
    "t_google_traces_RDD = t_google_traces.map(lambda line: line.split(\",\"))\\\n",
    "    .map(lambda tokens: (int(tokens[0]),int(tokens[2]),int(tokens[3]),tokens[4],tokens[5],tokens[6],tokens[7],tokens[8],tokens[9],tokens[10],tokens[11]))\\\n",
    "    .cache()\n",
    "# Traces content\n",
    "# 0: timestamp\n",
    "# 1: job ID\n",
    "# 2: task index\n",
    "# 3: machine ID\n",
    "# 4: event type\n",
    "# 5: username\n",
    "# 6: scheduling class\n",
    "# 7: priority\n",
    "# 8: resource req CPU cores\n",
    "# 9: resource req RAM\n",
    "# 10: resource req local disk space\n",
    "# 11: different machine costraint\n",
    "\n",
    "# The 2nd element of the trace was a \"missing information\", so for the sake of simplicity was cut out\n",
    "print t_google_traces_RDD.take(1)"
   ]
  },
  {
   "cell_type": "code",
   "execution_count": 4,
   "metadata": {
    "collapsed": false
   },
   "outputs": [
    {
     "name": "stdout",
     "output_type": "stream",
     "text": [
      "277321 Traces were removed\n",
      "[(600026913, (515042969, 1, u'372630443', u'1'))]\n"
     ]
    }
   ],
   "source": [
    "# We remove from the traces those that occurred before the beginning of the trace window (timestamp = 0)\n",
    "# and those that occured after the end of the trace window (timestamp = 2^63-1)\n",
    "# and we sort them in ascending order wrt the timestamps\n",
    "t_filtered_google_traces_RDD = t_google_traces_RDD.map(lambda elem: (elem[0],(elem[1],elem[2],elem[3],elem[4])))\\\n",
    "    .filter(lambda elem: elem[0] != 0 and elem[0] != (2^63 - 1))\\\n",
    "    .sortByKey(1,1)\n",
    "\n",
    "# Traces content\n",
    "# 0: timestamp\n",
    "# 1.0: job ID\n",
    "# 1.1: task index\n",
    "# 1.2: machine ID\n",
    "# 1.3: event type\n",
    "print t_google_traces_RDD.count() - t_filtered_google_traces_RDD.count(), \"Traces were removed\"\n",
    "print t_filtered_google_traces_RDD.take(1)"
   ]
  },
  {
   "cell_type": "markdown",
   "metadata": {},
   "source": [
    "Main Functions\n",
    "---"
   ]
  },
  {
   "cell_type": "code",
   "execution_count": 13,
   "metadata": {
    "collapsed": true
   },
   "outputs": [],
   "source": [
    "# This function takes as input \n",
    "# event_type: int, corresponding to the event type found in the traces\n",
    "# init_time: int (in seconds!), it is the time from which we want to evaluate the model\n",
    "# finish_time: int (in seconds!), it is the time when we want to stop the evaluation\n",
    "# granularity: int (in seconds!), define the level of granularity for plotting the results of the model\n",
    "# E.G. over a window of 200 seconds we may have a granularity of 10 seconds\n",
    "# which means that the derived traces will be clustered, based on the timestamps, in groups following\n",
    "# that granularity\n",
    "# For example assume to start from time = 0 till time = 200\n",
    "# cluster 1: time interval 0-10\n",
    "# cluster 2: time interval 10-20\n",
    "# ...\n",
    "# cluster 20: time interval 180-200\n",
    "\n",
    "def t_eval_time_window(event_type, machine_ID, job_ID, init_time, finish_time, granularity):\n",
    "    init_time = init_time*10**6\n",
    "    finish_time = finish_time*10**6\n",
    "    granularity = granularity*10**6\n",
    "    \n",
    "    print t_filtered_google_traces_RDD.count()\n",
    "    # First of all we apply another filter to select only the traces that corresponde to the event_type in input  \n",
    "    t_eval_traces_RDD = t_filtered_google_traces_RDD.filter(lambda elem: elem[0] >= init_time and elem[0] < finish_time)\n",
    "    print t_eval_traces_RDD.count()\n",
    "    \n",
    "    if(event_type != None):\n",
    "        t_eval_traces_RDD = t_eval_traces_RDD.filter(lambda elem: elem[1][3] == unicode(event_type))\n",
    "    if(machine_ID != None):\n",
    "        t_eval_traces_RDD = t_eval_traces_RDD.filter(lambda elem: elem[1][2] == machine_ID)\n",
    "    if(job_ID != None):\n",
    "        t_eval_traces_RDD = t_eval_traces_RDD.filter(lambda elem: elem[1][0] == job_ID)\n",
    "        \n",
    "    t_eval_traces_RDD = t_eval_traces_RDD.map(lambda elem: elem[0])\n",
    "    # Collect the RDD to get a python list\n",
    "    t_eval_traces_list = t_eval_traces_RDD.collect()\n",
    "    t_evaluated_means_list = []\n",
    "    # This value will always contain the lowest bound for the clusterization based on the granularity\n",
    "    # It's initial values is obviously the init_time\n",
    "    t_lower_g = init_time\n",
    "    # Define how many clusters we want to create depending on the input granularity\n",
    "    t_n_cluster = (finish_time-init_time)/granularity\n",
    "    \n",
    "    t_interval_values_list = []\n",
    "    # We iterate to creare each cluster\n",
    "    for i in range(0,int(t_n_cluster+1)):\n",
    "        # Define the cluster filtering the derived traces\n",
    "        t_cluster_traces = [timestamp for timestamp in t_eval_traces_list if timestamp >= t_lower_g and timestamp < (t_lower_g+granularity)]\n",
    "        # We then append to our list a tuple of this format\n",
    "        # (cluster_lower_bound, cluster_upper_bound, mean_time_between_jobs)\n",
    "        t_evaluated_means_list.append([t_lower_g, (t_lower_g+granularity), mu.mean_time_evaluation(sc, t_cluster_traces)])\n",
    "        \n",
    "        # interval_values_list contains all the inter-arrivals times between subsequent events among the intervals (clusters)\n",
    "        t_interval_values_list.extend(mu.get_interval_values(sc, t_cluster_traces, t_lower_g, t_lower_g+granularity))\n",
    "        # Increase the lower bound to reach the next cluster\n",
    "        t_lower_g += granularity\n",
    "    \n",
    "    # Evaluate some metrics and plot them\n",
    "    t_metrics_list = mu.evaluate_statistics(sc, t_interval_values_list)\n",
    "    pu.plot_custom_metrics(sc, t_metrics_list, 0, \"jobs\", \"time\", \"mean\", \"red\")\n",
    "    \n",
    "    # Write on CSV\n",
    "    #ou.write_csv(interval_values_list, event_type, init_time, finish_time, granularity)\n",
    "    # Remove the NaNs and substitute them with 0s\n",
    "    t_evaluated_means_list = mu.removeNans(t_evaluated_means_list)\n",
    "    \n",
    "    # Calculate the average time for the whole period\n",
    "    t_mean_time_whole_period = mu.mean_time_evaluation(sc, t_eval_traces_RDD.collect())\n",
    "    # Plot inter-irravals\n",
    "    pu.plot_inter_arrivals(sc, t_evaluated_means_list, t_mean_time_whole_period)\n",
    "    \n",
    "# eval_day(event_type, day(int), granularity(seconds))\n",
    "# Evaluate a single day (24 h)\n",
    "def t_eval_day(event_type, day, granularity):\n",
    "    if init_day > finish_day:\n",
    "        print \"Error, init day must be previous finish day\"\n",
    "    else if init_day > 30 or finish_day > 30:\n",
    "        print \"Error, exceeded month length (30 days)\"\n",
    "    else:\n",
    "        if day != 1:\n",
    "            init_time = 18000 + (day-2) * 86400\n",
    "            finish_time = 18000 + (day-1) * 86400 - 1     \n",
    "        else:\n",
    "            init_time = 0\n",
    "            finish_time = 18000\n",
    "\n",
    "        t_eval_time_window(0,None,None,init_time,finish_time,granularity)\n",
    "\n",
    "# eval_days(event_type, init_day(int), finish_day(int), granularity(seconds))\n",
    "# Evaluate multiple days\n",
    "def t_eval_days(event_type, init_day, finish_day, granularity):\n",
    "    if init_day > finish_day:\n",
    "        print \"Error, init day must be previous finish day\"\n",
    "    else if init_day > 30 or finish_day > 30:\n",
    "        print \"Error, exceeded month length (30 days)\"\n",
    "    else:\n",
    "        if init_day != 1:\n",
    "            init_time = 18000 + (init_day-2) * 86400\n",
    "            finish_time = 18000 + (finish_day-1) * 86400 - 1   \n",
    "        else:\n",
    "            init_time = 0\n",
    "            finish_time = 18000 + (finish_day-1) * 86400 - 1\n",
    "\n",
    "        t_eval_time_window(0,None,None,init_time,finish_time,granularity)"
   ]
  },
  {
   "cell_type": "markdown",
   "metadata": {},
   "source": [
    "Usage\n",
    "---"
   ]
  },
  {
   "cell_type": "code",
   "execution_count": 14,
   "metadata": {
    "collapsed": false
   },
   "outputs": [
    {
     "name": "stdout",
     "output_type": "stream",
     "text": [
      "6882293\n",
      "3220838\n",
      "event\n",
      "[600046926, 600046937, 600046983, 600047059, 600047200, 600047230, 600047610, 600047705, 600818396, 600818433]\n"
     ]
    },
    {
     "data": {
      "text/html": [
       "<script type=\"text/javascript\">\n",
       "        Bokeh.$(function() {\n",
       "            var modelid = \"f996c854-d3d8-4cd8-b545-387ccb5285c0\";\n",
       "            var modeltype = \"Plot\";\n",
       "            var elementid = \"0a067e3c-ff71-4263-bd33-6681b5911323\";\n",
       "            Bokeh.logger.info(\"Realizing plot:\")\n",
       "            Bokeh.logger.info(\" - modeltype: Plot\");\n",
       "            Bokeh.logger.info(\" - modelid: f996c854-d3d8-4cd8-b545-387ccb5285c0\");\n",
       "            Bokeh.logger.info(\" - elementid: 0a067e3c-ff71-4263-bd33-6681b5911323\");\n",
       "            var all_models = [{\"attributes\": {\"plot\": {\"subtype\": \"Figure\", \"type\": \"Plot\", \"id\": \"f996c854-d3d8-4cd8-b545-387ccb5285c0\"}, \"tags\": [], \"doc\": null, \"id\": \"80069fd1-3ad5-45e1-8278-0b45a1eee9a3\"}, \"type\": \"PreviewSaveTool\", \"id\": \"80069fd1-3ad5-45e1-8278-0b45a1eee9a3\"}, {\"attributes\": {\"plot\": {\"subtype\": \"Figure\", \"type\": \"Plot\", \"id\": \"f996c854-d3d8-4cd8-b545-387ccb5285c0\"}, \"dimensions\": [\"width\", \"height\"], \"tags\": [], \"doc\": null, \"id\": \"dcbbabe4-dd93-451b-90dc-a1fe81f176bc\"}, \"type\": \"WheelZoomTool\", \"id\": \"dcbbabe4-dd93-451b-90dc-a1fe81f176bc\"}, {\"attributes\": {\"plot\": {\"subtype\": \"Figure\", \"type\": \"Plot\", \"id\": \"f996c854-d3d8-4cd8-b545-387ccb5285c0\"}, \"tags\": [], \"doc\": null, \"id\": \"d8a55683-8141-4269-8f65-69b894db97ae\"}, \"type\": \"HelpTool\", \"id\": \"d8a55683-8141-4269-8f65-69b894db97ae\"}, {\"attributes\": {\"plot\": {\"subtype\": \"Figure\", \"type\": \"Plot\", \"id\": \"f996c854-d3d8-4cd8-b545-387ccb5285c0\"}, \"tags\": [], \"doc\": null, \"id\": \"1fa835db-e8cb-426f-89e9-239458c57de1\"}, \"type\": \"ResizeTool\", \"id\": \"1fa835db-e8cb-426f-89e9-239458c57de1\"}, {\"attributes\": {\"column_names\": [\"x\", \"y\"], \"tags\": [], \"doc\": null, \"selected\": {\"2d\": {\"indices\": []}, \"1d\": {\"indices\": []}, \"0d\": {\"indices\": [], \"flag\": false}}, \"callback\": null, \"data\": {\"y\": [149472.47858581244, 247585.23939592004, 226009.8380949391, 234163.12036043071, 235924.65993376396, 340678.18612585292, 177061.81733867992, 163469.69627526688, 230143.15635689397, 204606.58326700024, 172262.85652413199, 180433.44353912616], \"x\": [4200.0, 11400.0, 18600.0, 25800.0, 33000.0, 40200.0, 47400.0, 54600.0, 61800.0, 69000.0, 76200.0, 83400.0]}, \"id\": \"44e7d313-448e-4781-ae7b-7e0b1344f47b\"}, \"type\": \"ColumnDataSource\", \"id\": \"44e7d313-448e-4781-ae7b-7e0b1344f47b\"}, {\"attributes\": {\"plot\": {\"subtype\": \"Figure\", \"type\": \"Plot\", \"id\": \"f996c854-d3d8-4cd8-b545-387ccb5285c0\"}, \"dimensions\": [\"width\", \"height\"], \"tags\": [], \"doc\": null, \"id\": \"6e32e212-99e1-4af4-af5d-193cc6f763fc\"}, \"type\": \"PanTool\", \"id\": \"6e32e212-99e1-4af4-af5d-193cc6f763fc\"}, {\"attributes\": {\"plot\": {\"subtype\": \"Figure\", \"type\": \"Plot\", \"id\": \"f996c854-d3d8-4cd8-b545-387ccb5285c0\"}, \"dimensions\": [\"width\", \"height\"], \"tags\": [], \"doc\": null, \"id\": \"e9a8c25a-c958-422b-bc7a-ea482de85924\"}, \"type\": \"BoxZoomTool\", \"id\": \"e9a8c25a-c958-422b-bc7a-ea482de85924\"}, {\"attributes\": {\"plot\": {\"subtype\": \"Figure\", \"type\": \"Plot\", \"id\": \"f996c854-d3d8-4cd8-b545-387ccb5285c0\"}, \"tags\": [], \"doc\": null, \"dimension\": 1, \"ticker\": {\"type\": \"BasicTicker\", \"id\": \"f473bab6-bb57-4b80-a620-345d435c5b06\"}, \"id\": \"2c5ec141-23c6-4718-9fbd-0d2181745f88\"}, \"type\": \"Grid\", \"id\": \"2c5ec141-23c6-4718-9fbd-0d2181745f88\"}, {\"attributes\": {\"plot\": {\"subtype\": \"Figure\", \"type\": \"Plot\", \"id\": \"f996c854-d3d8-4cd8-b545-387ccb5285c0\"}, \"tags\": [], \"doc\": null, \"id\": \"fff9310e-f4a3-45c2-afa0-2c00d9ab3980\"}, \"type\": \"ResetTool\", \"id\": \"fff9310e-f4a3-45c2-afa0-2c00d9ab3980\"}, {\"attributes\": {\"line_color\": {\"value\": \"red\"}, \"line_width\": {\"value\": 1.5}, \"line_alpha\": {\"value\": 1.0}, \"doc\": null, \"tags\": [], \"y\": {\"field\": \"y\"}, \"x\": {\"field\": \"x\"}, \"id\": \"ca7f97f0-5575-4d8b-a6c8-39941114ada3\"}, \"type\": \"Line\", \"id\": \"ca7f97f0-5575-4d8b-a6c8-39941114ada3\"}, {\"attributes\": {\"tags\": [], \"doc\": null, \"mantissas\": [2, 5, 10], \"id\": \"f473bab6-bb57-4b80-a620-345d435c5b06\", \"num_minor_ticks\": 5}, \"type\": \"BasicTicker\", \"id\": \"f473bab6-bb57-4b80-a620-345d435c5b06\"}, {\"attributes\": {\"doc\": null, \"id\": \"0c6f0708-116c-409e-8cd6-272e47967e8d\", \"tags\": []}, \"type\": \"BasicTickFormatter\", \"id\": \"0c6f0708-116c-409e-8cd6-272e47967e8d\"}, {\"attributes\": {\"doc\": null, \"id\": \"fd42198e-2976-4dc9-a92d-f2cfd7b977bb\", \"tags\": []}, \"type\": \"BasicTickFormatter\", \"id\": \"fd42198e-2976-4dc9-a92d-f2cfd7b977bb\"}, {\"attributes\": {\"geometries\": [], \"tags\": [], \"doc\": null, \"id\": \"426a978f-5342-48a3-9f9f-217a0a4a120c\"}, \"type\": \"ToolEvents\", \"id\": \"426a978f-5342-48a3-9f9f-217a0a4a120c\"}, {\"attributes\": {\"plot\": {\"subtype\": \"Figure\", \"type\": \"Plot\", \"id\": \"f996c854-d3d8-4cd8-b545-387ccb5285c0\"}, \"tags\": [], \"doc\": null, \"axis_label\": \"time\", \"formatter\": {\"type\": \"BasicTickFormatter\", \"id\": \"fd42198e-2976-4dc9-a92d-f2cfd7b977bb\"}, \"ticker\": {\"type\": \"BasicTicker\", \"id\": \"cf6082cf-70bc-4b05-b711-879e635089a3\"}, \"id\": \"f4729acd-a5bc-47ab-a409-f10091d6599e\"}, \"type\": \"LinearAxis\", \"id\": \"f4729acd-a5bc-47ab-a409-f10091d6599e\"}, {\"attributes\": {\"names\": [], \"tags\": [], \"doc\": null, \"id\": \"384b6e33-8e71-42cd-aea5-785af428e491\", \"renderers\": []}, \"type\": \"DataRange1d\", \"id\": \"384b6e33-8e71-42cd-aea5-785af428e491\"}, {\"attributes\": {\"line_color\": {\"value\": \"#1f77b4\"}, \"line_width\": {\"value\": 1.5}, \"tags\": [], \"doc\": null, \"line_alpha\": {\"value\": 0.1}, \"y\": {\"field\": \"y\"}, \"x\": {\"field\": \"x\"}, \"id\": \"58071fea-a91c-4c67-9230-8b53a1301637\"}, \"type\": \"Line\", \"id\": \"58071fea-a91c-4c67-9230-8b53a1301637\"}, {\"attributes\": {\"tags\": [], \"doc\": null, \"mantissas\": [2, 5, 10], \"id\": \"cf6082cf-70bc-4b05-b711-879e635089a3\", \"num_minor_ticks\": 5}, \"type\": \"BasicTicker\", \"id\": \"cf6082cf-70bc-4b05-b711-879e635089a3\"}, {\"subtype\": \"Figure\", \"type\": \"Plot\", \"id\": \"f996c854-d3d8-4cd8-b545-387ccb5285c0\", \"attributes\": {\"x_range\": {\"type\": \"DataRange1d\", \"id\": \"426463e4-4c00-4c2d-821c-e60d3e03b96e\"}, \"right\": [], \"tags\": [], \"tools\": [{\"type\": \"PanTool\", \"id\": \"6e32e212-99e1-4af4-af5d-193cc6f763fc\"}, {\"type\": \"WheelZoomTool\", \"id\": \"dcbbabe4-dd93-451b-90dc-a1fe81f176bc\"}, {\"type\": \"BoxZoomTool\", \"id\": \"e9a8c25a-c958-422b-bc7a-ea482de85924\"}, {\"type\": \"PreviewSaveTool\", \"id\": \"80069fd1-3ad5-45e1-8278-0b45a1eee9a3\"}, {\"type\": \"ResizeTool\", \"id\": \"1fa835db-e8cb-426f-89e9-239458c57de1\"}, {\"type\": \"ResetTool\", \"id\": \"fff9310e-f4a3-45c2-afa0-2c00d9ab3980\"}, {\"type\": \"HelpTool\", \"id\": \"d8a55683-8141-4269-8f65-69b894db97ae\"}], \"title\": \"Metrics on jobs events\", \"extra_y_ranges\": {}, \"renderers\": [{\"type\": \"LinearAxis\", \"id\": \"f4729acd-a5bc-47ab-a409-f10091d6599e\"}, {\"type\": \"Grid\", \"id\": \"c2609815-4d51-49b6-a19b-a00e17a66769\"}, {\"type\": \"LinearAxis\", \"id\": \"d3a6f2e2-4d01-4481-b4b7-7d40463bb4d0\"}, {\"type\": \"Grid\", \"id\": \"2c5ec141-23c6-4718-9fbd-0d2181745f88\"}, {\"type\": \"GlyphRenderer\", \"id\": \"3bc2bc6e-1e4e-49ca-97e4-ecfe97670afb\"}], \"extra_x_ranges\": {}, \"below\": [{\"type\": \"LinearAxis\", \"id\": \"f4729acd-a5bc-47ab-a409-f10091d6599e\"}], \"tool_events\": {\"type\": \"ToolEvents\", \"id\": \"426a978f-5342-48a3-9f9f-217a0a4a120c\"}, \"above\": [], \"doc\": null, \"y_range\": {\"type\": \"DataRange1d\", \"id\": \"384b6e33-8e71-42cd-aea5-785af428e491\"}, \"id\": \"f996c854-d3d8-4cd8-b545-387ccb5285c0\", \"left\": [{\"type\": \"LinearAxis\", \"id\": \"d3a6f2e2-4d01-4481-b4b7-7d40463bb4d0\"}]}}, {\"attributes\": {\"names\": [], \"tags\": [], \"doc\": null, \"id\": \"426463e4-4c00-4c2d-821c-e60d3e03b96e\", \"renderers\": []}, \"type\": \"DataRange1d\", \"id\": \"426463e4-4c00-4c2d-821c-e60d3e03b96e\"}, {\"attributes\": {\"plot\": {\"subtype\": \"Figure\", \"type\": \"Plot\", \"id\": \"f996c854-d3d8-4cd8-b545-387ccb5285c0\"}, \"tags\": [], \"doc\": null, \"axis_label\": \"mean\", \"formatter\": {\"type\": \"BasicTickFormatter\", \"id\": \"0c6f0708-116c-409e-8cd6-272e47967e8d\"}, \"ticker\": {\"type\": \"BasicTicker\", \"id\": \"f473bab6-bb57-4b80-a620-345d435c5b06\"}, \"id\": \"d3a6f2e2-4d01-4481-b4b7-7d40463bb4d0\"}, \"type\": \"LinearAxis\", \"id\": \"d3a6f2e2-4d01-4481-b4b7-7d40463bb4d0\"}, {\"attributes\": {\"plot\": {\"subtype\": \"Figure\", \"type\": \"Plot\", \"id\": \"f996c854-d3d8-4cd8-b545-387ccb5285c0\"}, \"tags\": [], \"doc\": null, \"dimension\": 0, \"ticker\": {\"type\": \"BasicTicker\", \"id\": \"cf6082cf-70bc-4b05-b711-879e635089a3\"}, \"id\": \"c2609815-4d51-49b6-a19b-a00e17a66769\"}, \"type\": \"Grid\", \"id\": \"c2609815-4d51-49b6-a19b-a00e17a66769\"}, {\"attributes\": {\"nonselection_glyph\": {\"type\": \"Line\", \"id\": \"58071fea-a91c-4c67-9230-8b53a1301637\"}, \"data_source\": {\"type\": \"ColumnDataSource\", \"id\": \"44e7d313-448e-4781-ae7b-7e0b1344f47b\"}, \"name\": null, \"tags\": [], \"doc\": null, \"selection_glyph\": null, \"id\": \"3bc2bc6e-1e4e-49ca-97e4-ecfe97670afb\", \"glyph\": {\"type\": \"Line\", \"id\": \"ca7f97f0-5575-4d8b-a6c8-39941114ada3\"}}, \"type\": \"GlyphRenderer\", \"id\": \"3bc2bc6e-1e4e-49ca-97e4-ecfe97670afb\"}];\n",
       "            Bokeh.load_models(all_models);\n",
       "            var model = Bokeh.Collections(modeltype).get(modelid);\n",
       "            var view = new model.default_view({model: model, el: '#0a067e3c-ff71-4263-bd33-6681b5911323'});\n",
       "            Bokeh.index[modelid] = view\n",
       "        });\n",
       "    </script>\n",
       "<div class=\"plotdiv\" id=\"0a067e3c-ff71-4263-bd33-6681b5911323\"></div>\n",
       "\n"
      ]
     },
     "metadata": {},
     "output_type": "display_data"
    },
    {
     "data": {
      "text/html": [
       "<script type=\"text/javascript\">\n",
       "        Bokeh.$(function() {\n",
       "            var modelid = \"9ea4a609-18f1-498b-bf3b-cfe4c441c1f8\";\n",
       "            var modeltype = \"Plot\";\n",
       "            var elementid = \"382f9b77-741b-4e5b-91e4-5796d5831fd9\";\n",
       "            Bokeh.logger.info(\"Realizing plot:\")\n",
       "            Bokeh.logger.info(\" - modeltype: Plot\");\n",
       "            Bokeh.logger.info(\" - modelid: 9ea4a609-18f1-498b-bf3b-cfe4c441c1f8\");\n",
       "            Bokeh.logger.info(\" - elementid: 382f9b77-741b-4e5b-91e4-5796d5831fd9\");\n",
       "            var all_models = [{\"attributes\": {\"line_color\": {\"value\": \"orange\"}, \"line_width\": {\"value\": 1.5}, \"line_alpha\": {\"value\": 1.0}, \"doc\": null, \"tags\": [], \"y\": {\"field\": \"y\"}, \"x\": {\"field\": \"x\"}, \"id\": \"705c6982-51ef-4f5e-bf7b-50d7488d2720\"}, \"type\": \"Line\", \"id\": \"705c6982-51ef-4f5e-bf7b-50d7488d2720\"}, {\"attributes\": {\"plot\": {\"subtype\": \"Figure\", \"type\": \"Plot\", \"id\": \"9ea4a609-18f1-498b-bf3b-cfe4c441c1f8\"}, \"legends\": [[\"Time\", [{\"type\": \"GlyphRenderer\", \"id\": \"a66acc10-ce7e-46cc-99cd-6be54570b7d9\"}]]], \"tags\": [], \"doc\": null, \"id\": \"31b05de1-6d11-4de4-bcd3-ebb40b0d126e\"}, \"type\": \"Legend\", \"id\": \"31b05de1-6d11-4de4-bcd3-ebb40b0d126e\"}, {\"attributes\": {\"names\": [], \"tags\": [], \"doc\": null, \"id\": \"745f790d-fe76-42b9-b34f-594c4231d35a\", \"renderers\": []}, \"type\": \"DataRange1d\", \"id\": \"745f790d-fe76-42b9-b34f-594c4231d35a\"}, {\"attributes\": {\"line_color\": {\"value\": \"#1f77b4\"}, \"line_alpha\": {\"value\": 0.1}, \"fill_color\": {\"value\": \"#1f77b4\"}, \"tags\": [], \"doc\": null, \"fill_alpha\": {\"value\": 0.1}, \"y\": {\"field\": \"y\"}, \"x\": {\"field\": \"x\"}, \"id\": \"49687753-a012-4595-b426-5142419bfe4f\", \"size\": {\"units\": \"screen\", \"value\": 3}}, \"type\": \"Circle\", \"id\": \"49687753-a012-4595-b426-5142419bfe4f\"}, {\"attributes\": {\"column_names\": [], \"tags\": [], \"doc\": null, \"selected\": {\"2d\": {\"indices\": []}, \"1d\": {\"indices\": []}, \"0d\": {\"indices\": [], \"flag\": false}}, \"callback\": null, \"data\": {}, \"id\": \"c51df1c5-c1c1-4043-ac4b-7b86a3cc573c\"}, \"type\": \"ColumnDataSource\", \"id\": \"c51df1c5-c1c1-4043-ac4b-7b86a3cc573c\"}, {\"attributes\": {\"nonselection_glyph\": {\"type\": \"Line\", \"id\": \"d6f33a23-c275-4e92-8f6f-d676c1b2647f\"}, \"data_source\": {\"type\": \"ColumnDataSource\", \"id\": \"017ef807-79c6-4ecc-bc03-6eecfc68cd49\"}, \"name\": null, \"tags\": [], \"doc\": null, \"selection_glyph\": null, \"id\": \"03a4fbc7-94f7-4177-a403-afc66134f23b\", \"glyph\": {\"type\": \"Line\", \"id\": \"705c6982-51ef-4f5e-bf7b-50d7488d2720\"}}, \"type\": \"GlyphRenderer\", \"id\": \"03a4fbc7-94f7-4177-a403-afc66134f23b\"}, {\"attributes\": {\"line_color\": {\"value\": \"#1f77b4\"}, \"line_width\": {\"value\": 1.5}, \"tags\": [], \"doc\": null, \"line_alpha\": {\"value\": 0.1}, \"y\": {\"field\": \"y\"}, \"x\": {\"field\": \"x\"}, \"id\": \"d6f33a23-c275-4e92-8f6f-d676c1b2647f\"}, \"type\": \"Line\", \"id\": \"d6f33a23-c275-4e92-8f6f-d676c1b2647f\"}, {\"attributes\": {\"line_color\": {\"value\": \"red\"}, \"line_alpha\": {\"value\": 1.0}, \"fill_color\": {\"value\": \"red\"}, \"tags\": [], \"doc\": null, \"fill_alpha\": {\"value\": 1.0}, \"y\": {\"field\": \"y\"}, \"x\": {\"field\": \"x\"}, \"id\": \"42d64e25-291a-4c31-b339-3f5b31502a3f\", \"size\": {\"units\": \"screen\", \"value\": 3}}, \"type\": \"Circle\", \"id\": \"42d64e25-291a-4c31-b339-3f5b31502a3f\"}, {\"attributes\": {\"nonselection_glyph\": {\"type\": \"Ray\", \"id\": \"5818ebe0-db6c-4f48-a193-d4e63b43e2a8\"}, \"data_source\": {\"type\": \"ColumnDataSource\", \"id\": \"c51df1c5-c1c1-4043-ac4b-7b86a3cc573c\"}, \"name\": null, \"tags\": [], \"doc\": null, \"selection_glyph\": null, \"id\": \"a495fccb-4a71-4e2b-8014-991ef6066076\", \"glyph\": {\"type\": \"Ray\", \"id\": \"0c562663-c3bb-4ae1-8497-3886df5e4df1\"}}, \"type\": \"GlyphRenderer\", \"id\": \"a495fccb-4a71-4e2b-8014-991ef6066076\"}, {\"attributes\": {\"column_names\": [\"x\", \"y\"], \"tags\": [], \"doc\": null, \"selected\": {\"2d\": {\"indices\": []}, \"1d\": {\"indices\": []}, \"0d\": {\"indices\": [], \"flag\": false}}, \"callback\": null, \"data\": {\"y\": [0.14947247858581245, 0.24758523939592003, 0.2260098380949391, 0.23416312036043072, 0.23592465993376396, 0.34067818612585293, 0.17706181733867993, 0.16346969627526689, 0.23014315635689397, 0.20460658326700024, 0.17226285652413198, 0.18043344353912616], \"x\": [4200.0, 11400.0, 18600.0, 25800.0, 33000.0, 40200.0, 47400.0, 54600.0, 61800.0, 69000.0, 76200.0, 83400.0]}, \"id\": \"cbfdb5fc-a17e-4262-94c3-c52689d07042\"}, \"type\": \"ColumnDataSource\", \"id\": \"cbfdb5fc-a17e-4262-94c3-c52689d07042\"}, {\"attributes\": {\"tags\": [], \"doc\": null, \"mantissas\": [2, 5, 10], \"id\": \"a75a4e16-296e-499f-b7f8-bc86e5d5b6f2\", \"num_minor_ticks\": 5}, \"type\": \"BasicTicker\", \"id\": \"a75a4e16-296e-499f-b7f8-bc86e5d5b6f2\"}, {\"attributes\": {\"line_color\": {\"value\": \"#1f77b4\"}, \"line_alpha\": {\"value\": 0.1}, \"angle\": {\"units\": \"rad\", \"value\": 0}, \"tags\": [], \"doc\": null, \"length\": {\"units\": \"data\", \"value\": 79200.0}, \"y\": {\"value\": 0.20382700832889886}, \"x\": {\"value\": 4200.0}, \"id\": \"5818ebe0-db6c-4f48-a193-d4e63b43e2a8\"}, \"type\": \"Ray\", \"id\": \"5818ebe0-db6c-4f48-a193-d4e63b43e2a8\"}, {\"attributes\": {\"column_names\": [\"x\", \"y\"], \"tags\": [], \"doc\": null, \"selected\": {\"2d\": {\"indices\": []}, \"1d\": {\"indices\": []}, \"0d\": {\"indices\": [], \"flag\": false}}, \"callback\": null, \"data\": {\"y\": [0.14947247858581245, 0.24758523939592003, 0.2260098380949391, 0.23416312036043072, 0.23592465993376396, 0.34067818612585293, 0.17706181733867993, 0.16346969627526689, 0.23014315635689397, 0.20460658326700024, 0.17226285652413198, 0.18043344353912616], \"x\": [4200.0, 11400.0, 18600.0, 25800.0, 33000.0, 40200.0, 47400.0, 54600.0, 61800.0, 69000.0, 76200.0, 83400.0]}, \"id\": \"017ef807-79c6-4ecc-bc03-6eecfc68cd49\"}, \"type\": \"ColumnDataSource\", \"id\": \"017ef807-79c6-4ecc-bc03-6eecfc68cd49\"}, {\"attributes\": {\"plot\": {\"subtype\": \"Figure\", \"type\": \"Plot\", \"id\": \"9ea4a609-18f1-498b-bf3b-cfe4c441c1f8\"}, \"dimensions\": [\"width\", \"height\"], \"tags\": [], \"doc\": null, \"id\": \"cd94fba2-bfee-4a5e-9b88-aac6d5ecddf6\"}, \"type\": \"BoxZoomTool\", \"id\": \"cd94fba2-bfee-4a5e-9b88-aac6d5ecddf6\"}, {\"attributes\": {\"nonselection_glyph\": {\"type\": \"Circle\", \"id\": \"49687753-a012-4595-b426-5142419bfe4f\"}, \"data_source\": {\"type\": \"ColumnDataSource\", \"id\": \"cbfdb5fc-a17e-4262-94c3-c52689d07042\"}, \"name\": null, \"tags\": [], \"doc\": null, \"selection_glyph\": null, \"id\": \"a66acc10-ce7e-46cc-99cd-6be54570b7d9\", \"glyph\": {\"type\": \"Circle\", \"id\": \"42d64e25-291a-4c31-b339-3f5b31502a3f\"}}, \"type\": \"GlyphRenderer\", \"id\": \"a66acc10-ce7e-46cc-99cd-6be54570b7d9\"}, {\"attributes\": {\"plot\": {\"subtype\": \"Figure\", \"type\": \"Plot\", \"id\": \"9ea4a609-18f1-498b-bf3b-cfe4c441c1f8\"}, \"tags\": [], \"doc\": null, \"dimension\": 0, \"ticker\": {\"type\": \"BasicTicker\", \"id\": \"a75a4e16-296e-499f-b7f8-bc86e5d5b6f2\"}, \"id\": \"83b22c17-a257-473b-a685-74d273daeeae\"}, \"type\": \"Grid\", \"id\": \"83b22c17-a257-473b-a685-74d273daeeae\"}, {\"attributes\": {\"plot\": {\"subtype\": \"Figure\", \"type\": \"Plot\", \"id\": \"9ea4a609-18f1-498b-bf3b-cfe4c441c1f8\"}, \"tags\": [], \"doc\": null, \"dimension\": 1, \"ticker\": {\"type\": \"BasicTicker\", \"id\": \"2ef68f3b-021a-4cfe-b4cf-2fdf883c98ce\"}, \"id\": \"42af0936-888e-41c7-b526-90cbcfeaf5cd\"}, \"type\": \"Grid\", \"id\": \"42af0936-888e-41c7-b526-90cbcfeaf5cd\"}, {\"attributes\": {\"plot\": {\"subtype\": \"Figure\", \"type\": \"Plot\", \"id\": \"9ea4a609-18f1-498b-bf3b-cfe4c441c1f8\"}, \"tags\": [], \"doc\": null, \"id\": \"77d17584-d9f2-47c6-a630-85ca8cadc13e\"}, \"type\": \"ResetTool\", \"id\": \"77d17584-d9f2-47c6-a630-85ca8cadc13e\"}, {\"attributes\": {\"line_color\": {\"value\": \"red\"}, \"line_alpha\": {\"value\": 1.0}, \"angle\": {\"units\": \"rad\", \"value\": 0}, \"tags\": [], \"doc\": null, \"length\": {\"units\": \"data\", \"value\": 79200.0}, \"y\": {\"value\": 0.20382700832889886}, \"x\": {\"value\": 4200.0}, \"id\": \"0c562663-c3bb-4ae1-8497-3886df5e4df1\"}, \"type\": \"Ray\", \"id\": \"0c562663-c3bb-4ae1-8497-3886df5e4df1\"}, {\"attributes\": {\"plot\": {\"subtype\": \"Figure\", \"type\": \"Plot\", \"id\": \"9ea4a609-18f1-498b-bf3b-cfe4c441c1f8\"}, \"tags\": [], \"doc\": null, \"id\": \"8867a695-73be-441b-8218-df189972776b\"}, \"type\": \"PreviewSaveTool\", \"id\": \"8867a695-73be-441b-8218-df189972776b\"}, {\"attributes\": {\"doc\": null, \"id\": \"14925eb8-12df-457b-a717-8519459660bc\", \"tags\": []}, \"type\": \"BasicTickFormatter\", \"id\": \"14925eb8-12df-457b-a717-8519459660bc\"}, {\"attributes\": {\"doc\": null, \"id\": \"68c56242-655d-4e42-8757-69ed9453a844\", \"tags\": []}, \"type\": \"BasicTickFormatter\", \"id\": \"68c56242-655d-4e42-8757-69ed9453a844\"}, {\"subtype\": \"Figure\", \"type\": \"Plot\", \"id\": \"9ea4a609-18f1-498b-bf3b-cfe4c441c1f8\", \"attributes\": {\"x_range\": {\"type\": \"DataRange1d\", \"id\": \"470a4e61-1d5d-4266-9348-d3ad9520198a\"}, \"right\": [], \"tags\": [], \"tools\": [{\"type\": \"PanTool\", \"id\": \"a9763d1c-828e-4014-97fc-c850d97f612e\"}, {\"type\": \"WheelZoomTool\", \"id\": \"56c567cf-d213-4c68-ab58-8139a2b5dd1d\"}, {\"type\": \"BoxZoomTool\", \"id\": \"cd94fba2-bfee-4a5e-9b88-aac6d5ecddf6\"}, {\"type\": \"PreviewSaveTool\", \"id\": \"8867a695-73be-441b-8218-df189972776b\"}, {\"type\": \"ResizeTool\", \"id\": \"ded2dab9-bc82-4431-90a7-0fe28ac1b562\"}, {\"type\": \"ResetTool\", \"id\": \"77d17584-d9f2-47c6-a630-85ca8cadc13e\"}, {\"type\": \"HelpTool\", \"id\": \"7bd918ff-eb9d-44d4-9714-8ab5a33788af\"}], \"title\": \"Mean inter-arrival time\", \"extra_y_ranges\": {}, \"renderers\": [{\"type\": \"LinearAxis\", \"id\": \"6ef5a604-1f4f-44c7-8239-e326e8add67d\"}, {\"type\": \"Grid\", \"id\": \"83b22c17-a257-473b-a685-74d273daeeae\"}, {\"type\": \"LinearAxis\", \"id\": \"a0507161-fe35-406c-bcd7-f9f4fda3d20a\"}, {\"type\": \"Grid\", \"id\": \"42af0936-888e-41c7-b526-90cbcfeaf5cd\"}, {\"type\": \"GlyphRenderer\", \"id\": \"03a4fbc7-94f7-4177-a403-afc66134f23b\"}, {\"type\": \"GlyphRenderer\", \"id\": \"a495fccb-4a71-4e2b-8014-991ef6066076\"}, {\"type\": \"Legend\", \"id\": \"31b05de1-6d11-4de4-bcd3-ebb40b0d126e\"}, {\"type\": \"GlyphRenderer\", \"id\": \"a66acc10-ce7e-46cc-99cd-6be54570b7d9\"}], \"extra_x_ranges\": {}, \"below\": [{\"type\": \"LinearAxis\", \"id\": \"6ef5a604-1f4f-44c7-8239-e326e8add67d\"}], \"tool_events\": {\"type\": \"ToolEvents\", \"id\": \"bdd78c25-4ca7-4d0f-ba79-8f6eba1d41a9\"}, \"above\": [], \"doc\": null, \"y_range\": {\"type\": \"DataRange1d\", \"id\": \"745f790d-fe76-42b9-b34f-594c4231d35a\"}, \"id\": \"9ea4a609-18f1-498b-bf3b-cfe4c441c1f8\", \"left\": [{\"type\": \"LinearAxis\", \"id\": \"a0507161-fe35-406c-bcd7-f9f4fda3d20a\"}]}}, {\"attributes\": {\"tags\": [], \"doc\": null, \"mantissas\": [2, 5, 10], \"id\": \"2ef68f3b-021a-4cfe-b4cf-2fdf883c98ce\", \"num_minor_ticks\": 5}, \"type\": \"BasicTicker\", \"id\": \"2ef68f3b-021a-4cfe-b4cf-2fdf883c98ce\"}, {\"attributes\": {\"plot\": {\"subtype\": \"Figure\", \"type\": \"Plot\", \"id\": \"9ea4a609-18f1-498b-bf3b-cfe4c441c1f8\"}, \"tags\": [], \"doc\": null, \"axis_label\": \"Mean Time (seconds)\", \"formatter\": {\"type\": \"BasicTickFormatter\", \"id\": \"68c56242-655d-4e42-8757-69ed9453a844\"}, \"ticker\": {\"type\": \"BasicTicker\", \"id\": \"2ef68f3b-021a-4cfe-b4cf-2fdf883c98ce\"}, \"id\": \"a0507161-fe35-406c-bcd7-f9f4fda3d20a\"}, \"type\": \"LinearAxis\", \"id\": \"a0507161-fe35-406c-bcd7-f9f4fda3d20a\"}, {\"attributes\": {\"plot\": {\"subtype\": \"Figure\", \"type\": \"Plot\", \"id\": \"9ea4a609-18f1-498b-bf3b-cfe4c441c1f8\"}, \"tags\": [], \"doc\": null, \"id\": \"7bd918ff-eb9d-44d4-9714-8ab5a33788af\"}, \"type\": \"HelpTool\", \"id\": \"7bd918ff-eb9d-44d4-9714-8ab5a33788af\"}, {\"attributes\": {\"geometries\": [], \"tags\": [], \"doc\": null, \"id\": \"bdd78c25-4ca7-4d0f-ba79-8f6eba1d41a9\"}, \"type\": \"ToolEvents\", \"id\": \"bdd78c25-4ca7-4d0f-ba79-8f6eba1d41a9\"}, {\"attributes\": {\"plot\": {\"subtype\": \"Figure\", \"type\": \"Plot\", \"id\": \"9ea4a609-18f1-498b-bf3b-cfe4c441c1f8\"}, \"tags\": [], \"doc\": null, \"axis_label\": \"Time Window (seconds)\", \"formatter\": {\"type\": \"BasicTickFormatter\", \"id\": \"14925eb8-12df-457b-a717-8519459660bc\"}, \"ticker\": {\"type\": \"BasicTicker\", \"id\": \"a75a4e16-296e-499f-b7f8-bc86e5d5b6f2\"}, \"id\": \"6ef5a604-1f4f-44c7-8239-e326e8add67d\"}, \"type\": \"LinearAxis\", \"id\": \"6ef5a604-1f4f-44c7-8239-e326e8add67d\"}, {\"attributes\": {\"plot\": {\"subtype\": \"Figure\", \"type\": \"Plot\", \"id\": \"9ea4a609-18f1-498b-bf3b-cfe4c441c1f8\"}, \"tags\": [], \"doc\": null, \"id\": \"ded2dab9-bc82-4431-90a7-0fe28ac1b562\"}, \"type\": \"ResizeTool\", \"id\": \"ded2dab9-bc82-4431-90a7-0fe28ac1b562\"}, {\"attributes\": {\"names\": [], \"tags\": [], \"doc\": null, \"id\": \"470a4e61-1d5d-4266-9348-d3ad9520198a\", \"renderers\": []}, \"type\": \"DataRange1d\", \"id\": \"470a4e61-1d5d-4266-9348-d3ad9520198a\"}, {\"attributes\": {\"plot\": {\"subtype\": \"Figure\", \"type\": \"Plot\", \"id\": \"9ea4a609-18f1-498b-bf3b-cfe4c441c1f8\"}, \"dimensions\": [\"width\", \"height\"], \"tags\": [], \"doc\": null, \"id\": \"a9763d1c-828e-4014-97fc-c850d97f612e\"}, \"type\": \"PanTool\", \"id\": \"a9763d1c-828e-4014-97fc-c850d97f612e\"}, {\"attributes\": {\"plot\": {\"subtype\": \"Figure\", \"type\": \"Plot\", \"id\": \"9ea4a609-18f1-498b-bf3b-cfe4c441c1f8\"}, \"dimensions\": [\"width\", \"height\"], \"tags\": [], \"doc\": null, \"id\": \"56c567cf-d213-4c68-ab58-8139a2b5dd1d\"}, \"type\": \"WheelZoomTool\", \"id\": \"56c567cf-d213-4c68-ab58-8139a2b5dd1d\"}];\n",
       "            Bokeh.load_models(all_models);\n",
       "            var model = Bokeh.Collections(modeltype).get(modelid);\n",
       "            var view = new model.default_view({model: model, el: '#382f9b77-741b-4e5b-91e4-5796d5831fd9'});\n",
       "            Bokeh.index[modelid] = view\n",
       "        });\n",
       "    </script>\n",
       "<div class=\"plotdiv\" id=\"382f9b77-741b-4e5b-91e4-5796d5831fd9\"></div>\n",
       "\n"
      ]
     },
     "metadata": {},
     "output_type": "display_data"
    }
   ],
   "source": [
    "t_eval_time_window(4, None, None, 600, 86400, 7200)\n",
    "#t_eval_days(1,5,10,7200)"
   ]
  },
  {
   "cell_type": "code",
   "execution_count": null,
   "metadata": {
    "collapsed": true
   },
   "outputs": [],
   "source": []
  }
 ],
 "metadata": {
  "kernelspec": {
   "display_name": "Python 2",
   "language": "python",
   "name": "python2"
  },
  "language_info": {
   "codemirror_mode": {
    "name": "ipython",
    "version": 2
   },
   "file_extension": ".py",
   "mimetype": "text/x-python",
   "name": "python",
   "nbconvert_exporter": "python",
   "pygments_lexer": "ipython2",
   "version": "2.7.10"
  }
 },
 "nbformat": 4,
 "nbformat_minor": 0
}
